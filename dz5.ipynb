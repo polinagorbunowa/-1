{
  "cells": [
    {
      "cell_type": "code",
      "execution_count": 13,
      "metadata": {
        "id": "P5XGYBnGI-sL"
      },
      "outputs": [],
      "source": [
        "import pandas as pd\n",
        "import numpy as np\n",
        "from matplotlib import pyplot as plt\n",
        "from scipy.stats import f\n",
        "import statsmodels.api as sm\n",
        "from statsmodels.tsa.stattools import grangercausalitytests"
      ]
    },
    {
      "cell_type": "code",
      "execution_count": 26,
      "metadata": {
        "id": "fhkEmPs5I-sN"
      },
      "outputs": [],
      "source": [
        "v_d = pd.read_csv(\"/content/vaccinations.csv\")"
      ]
    },
    {
      "cell_type": "code",
      "execution_count": 27,
      "metadata": {
        "id": "S5rBD1oKI-sN"
      },
      "outputs": [],
      "source": [
        "grouped_data = v_d.groupby('date')\n",
        "vac_data = grouped_data.agg({'location': 'count', 'daily_vaccinations': 'sum'}).reset_index()\n",
        "vac_data = vac_data.rename(columns={'location': 'counties_count'})"
      ]
    },
    {
      "cell_type": "code",
      "source": [
        "t_d = pd.read_csv(\"/content/vaccination_all_tweets.csv\")"
      ],
      "metadata": {
        "id": "HMhdFfWgYPMg"
      },
      "execution_count": 28,
      "outputs": []
    },
    {
      "cell_type": "code",
      "execution_count": 29,
      "metadata": {
        "id": "h-jothCUI-sN"
      },
      "outputs": [],
      "source": [
        "t_d['date'] = pd.to_datetime(t_d['date'], format='%Y-%m-%d %H:%M:%S')"
      ]
    },
    {
      "cell_type": "code",
      "execution_count": 30,
      "metadata": {
        "id": "BIcFZwrbI-sO"
      },
      "outputs": [],
      "source": [
        "t_d = (t_d.groupby(t_d['date'].dt.date))\n",
        "t_d = t_d.agg({'retweets': 'sum'})\n",
        "t_d = t_d.reset_index()"
      ]
    },
    {
      "cell_type": "code",
      "execution_count": 31,
      "metadata": {
        "id": "cg4mIlTII-sO"
      },
      "outputs": [],
      "source": [
        "df = pd.DataFrame(vac_data)\n",
        "df[\"tweets\"] = t_d[\"retweets\"]"
      ]
    },
    {
      "cell_type": "code",
      "execution_count": 19,
      "metadata": {
        "id": "ALiuaUVhI-sO"
      },
      "outputs": [],
      "source": [
        "def autoregression(data_series, order, forecast_amount):\n",
        "    coefficients = np.ones(order)\n",
        "    lagged_matrix = np.array([data_series[i:order + i] for i in range(len(data_series) - order - 1)])\n",
        "    coefficients = np.linalg.lstsq(lagged_matrix, data_series[order + 1:len(data_series)], rcond=None)[0]\n",
        "\n",
        "    data_list = data_series.values.tolist()\n",
        "\n",
        "    for _ in range(forecast_amount):\n",
        "        prediction = np.dot(coefficients, data_list[-order:])\n",
        "        data_list.append(prediction)\n",
        "\n",
        "    return np.array(data_list)\n",
        "\n",
        "def combined_autoregression(X_series, Y_series, order_x, order_y, forecast_amount):\n",
        "    combined_order = order_x + order_y\n",
        "    combined_coefficients = np.ones(combined_order)\n",
        "\n",
        "    X_lagged_matrix = np.array([X_series[i:order_x + i] for i in range(len(X_series) - order_x - 1)])\n",
        "    Y_lagged_matrix = np.array([Y_series[i:order_y + i] for i in range(len(Y_series) - order_y - 1)])\n",
        "\n",
        "    combined_matrix = np.column_stack((X_lagged_matrix, Y_lagged_matrix))\n",
        "    combined_coefficients = np.linalg.lstsq(combined_matrix, X_series[order_x + 1:len(X_series)], rcond=None)[0]\n",
        "\n",
        "    X_list = X_series.values.tolist()\n",
        "    Y_list = Y_series.values.tolist()\n",
        "\n",
        "    for _ in range(forecast_amount):\n",
        "        combined_pred = np.dot(combined_coefficients, X_list[-order_x:] + Y_list[-order_y:])\n",
        "        X_list.append(combined_pred)\n",
        "\n",
        "    return np.array(X_list)\n"
      ]
    },
    {
      "cell_type": "code",
      "execution_count": 32,
      "metadata": {
        "id": "FB3-dw5pI-sO"
      },
      "outputs": [],
      "source": [
        "daily_vac = df[\"daily_vaccinations\"]\n",
        "daily_tweet = df[\"tweets\"]\n",
        "predict_range = 5\n",
        "lag = len(daily_vac) - predict_range - 2\n",
        "pred = autoregression(daily_vac[:int(len(daily_vac)) - predict_range], lag ,predict_range)\n"
      ]
    },
    {
      "cell_type": "code",
      "execution_count": 33,
      "metadata": {
        "id": "JUZe-iqTI-sO"
      },
      "outputs": [],
      "source": [
        "def granger_causality_test(y_with_lag_residuals, y_without_lag_residuals, lag_order, regression_coefficients, n):\n",
        "\n",
        "    mse_with_lag = np.mean(y_with_lag_residuals ** 2)\n",
        "    mse_without_lag = np.mean(y_without_lag_residuals ** 2)\n",
        "\n",
        "    f_statistic = (abs(mse_without_lag - mse_with_lag) / lag_order) / (mse_with_lag / abs(n - lag_order - regression_coefficients))\n",
        "    p_value = f.sf(f_statistic, lag_order, n - lag_order - regression_coefficients)\n",
        "\n",
        "    return f_statistic, p_value\n"
      ]
    },
    {
      "cell_type": "code",
      "execution_count": 34,
      "metadata": {
        "id": "SkeUbAImI-sP"
      },
      "outputs": [],
      "source": [
        "lag_vac = len(daily_vac) - predict_range - 2\n",
        "predicted_lag_vac = combined_autoregression(daily_vac[:int(len(daily_vac)) - predict_range], daily_tweet[:int(len(daily_vac)) - predict_range], lag_vac, lag_vac, predict_range)"
      ]
    },
    {
      "cell_type": "code",
      "execution_count": 35,
      "metadata": {
        "id": "0QU00vNCI-sP",
        "outputId": "d6d46646-9518-4b21-a8e7-b2d831fb4537",
        "colab": {
          "base_uri": "https://localhost:8080/"
        }
      },
      "outputs": [
        {
          "output_type": "stream",
          "name": "stdout",
          "text": [
            "6.223180866872984e-13\n"
          ]
        }
      ],
      "source": [
        "f_statistic, p_value = granger_causality_test(pred, predicted_lag_vac, lag_vac, 2, len(pred)-1)\n",
        "critical = f.ppf(0.95, 2, len(pred)-1)\n",
        "print(f_statistic)"
      ]
    },
    {
      "cell_type": "code",
      "source": [
        "print(p_value)"
      ],
      "metadata": {
        "colab": {
          "base_uri": "https://localhost:8080/"
        },
        "id": "OzzZoQeXcf2O",
        "outputId": "80d08dc8-6cd7-48cb-f87c-2a21b53aa8e7"
      },
      "execution_count": 37,
      "outputs": [
        {
          "output_type": "stream",
          "name": "stdout",
          "text": [
            "0.9999999999999999\n"
          ]
        }
      ]
    },
    {
      "cell_type": "markdown",
      "source": [
        "Так как p_value > 0.05, то мы не отвергаем нулевую гипотезу"
      ],
      "metadata": {
        "id": "6f-GeADXc8NR"
      }
    },
    {
      "cell_type": "code",
      "execution_count": 24,
      "metadata": {
        "id": "Jq7t9IAOI-sQ"
      },
      "outputs": [],
      "source": [
        "daily_vac = df[\"daily_vaccinations\"]\n",
        "\n",
        "predict_range = 5\n",
        "lag_tweet = len(daily_vac) - predict_range - 2\n",
        "\n",
        "daily_tweet = df[\"tweets\"]\n",
        "predicted_lag_tweet = combined_autoregression(daily_tweet[:int(len(daily_vac)) - predict_range], daily_vac[:int(len(daily_vac)) - predict_range], lag_tweet, lag_tweet, predict_range)"
      ]
    },
    {
      "cell_type": "code",
      "execution_count": 38,
      "metadata": {
        "id": "4MDVsKpdI-sQ"
      },
      "outputs": [],
      "source": [
        "f_statistic, p_value = granger_causality_test(pred, predicted_lag_tweet, lag_tweet, 2, len(pred)-1)\n",
        "critical = f.ppf(0.95, 2, len(pred)-1)"
      ]
    },
    {
      "cell_type": "code",
      "source": [
        "print(f_statistic)"
      ],
      "metadata": {
        "colab": {
          "base_uri": "https://localhost:8080/"
        },
        "id": "6rt5LcS0dQnv",
        "outputId": "f423d067-ae51-4065-b115-d05d8cd7b752"
      },
      "execution_count": 39,
      "outputs": [
        {
          "output_type": "stream",
          "name": "stdout",
          "text": [
            "0.015209125460696696\n"
          ]
        }
      ]
    },
    {
      "cell_type": "code",
      "source": [
        "print(p_value)"
      ],
      "metadata": {
        "colab": {
          "base_uri": "https://localhost:8080/"
        },
        "id": "RHoBGOxSdYyG",
        "outputId": "fd2be47c-faed-4e50-dc8b-713978ef4885"
      },
      "execution_count": 40,
      "outputs": [
        {
          "output_type": "stream",
          "name": "stdout",
          "text": [
            "0.9999999999999999\n"
          ]
        }
      ]
    },
    {
      "cell_type": "markdown",
      "source": [
        "Так как p_value > 0.05, то мы не отвергаем нулевую гипотезу"
      ],
      "metadata": {
        "id": "6cC9O-Rfdl4a"
      }
    }
  ],
  "metadata": {
    "kernelspec": {
      "display_name": "notebook",
      "language": "python",
      "name": "python3"
    },
    "language_info": {
      "codemirror_mode": {
        "name": "ipython",
        "version": 3
      },
      "file_extension": ".py",
      "mimetype": "text/x-python",
      "name": "python",
      "nbconvert_exporter": "python",
      "pygments_lexer": "ipython3",
      "version": "3.8.18"
    },
    "colab": {
      "provenance": []
    }
  },
  "nbformat": 4,
  "nbformat_minor": 0
}